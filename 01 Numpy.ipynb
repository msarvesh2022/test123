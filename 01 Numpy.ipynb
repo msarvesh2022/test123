{
 "cells": [
  {
   "cell_type": "code",
   "execution_count": 1,
   "id": "18a50720-4d9e-4e71-b6d1-d7d01642b1a1",
   "metadata": {},
   "outputs": [],
   "source": [
    "import numpy as np"
   ]
  },
  {
   "cell_type": "code",
   "execution_count": 11,
   "id": "2ca9429c-35ca-4ef4-944e-d7d108b0ebcd",
   "metadata": {},
   "outputs": [],
   "source": [
    "a= np.array([1,2])\n",
    "b= np.array([2,3])"
   ]
  },
  {
   "cell_type": "code",
   "execution_count": 12,
   "id": "f256bd45-c6b2-4968-94bc-184e0eb9efba",
   "metadata": {},
   "outputs": [
    {
     "data": {
      "text/plain": [
       "array([2, 6])"
      ]
     },
     "execution_count": 12,
     "metadata": {},
     "output_type": "execute_result"
    }
   ],
   "source": [
    "a*b"
   ]
  },
  {
   "cell_type": "code",
   "execution_count": 14,
   "id": "ef4e096b-0c48-4f2b-aa26-284648bcb03c",
   "metadata": {},
   "outputs": [
    {
     "name": "stdout",
     "output_type": "stream",
     "text": [
      "1\n"
     ]
    }
   ],
   "source": [
    "print(a.ndim)"
   ]
  },
  {
   "cell_type": "code",
   "execution_count": 16,
   "id": "adee2c4f-4e37-45fb-9765-2def46b92447",
   "metadata": {},
   "outputs": [],
   "source": [
    "c= np.array([[1,2],[3,4]])"
   ]
  },
  {
   "cell_type": "code",
   "execution_count": 17,
   "id": "e4f9bce6-75b5-4e99-8ff8-3a08246b5117",
   "metadata": {},
   "outputs": [
    {
     "data": {
      "text/plain": [
       "array([[1, 2],\n",
       "       [3, 4]])"
      ]
     },
     "execution_count": 17,
     "metadata": {},
     "output_type": "execute_result"
    }
   ],
   "source": [
    "c"
   ]
  },
  {
   "cell_type": "code",
   "execution_count": 19,
   "id": "2e2c0128-e4a7-4db9-98a4-b2c7d1bce86a",
   "metadata": {},
   "outputs": [
    {
     "name": "stdout",
     "output_type": "stream",
     "text": [
      "2\n"
     ]
    }
   ],
   "source": [
    "print(c.ndim)"
   ]
  },
  {
   "cell_type": "code",
   "execution_count": 32,
   "id": "7eab6784-c3d6-4870-8204-fc840e3e63b1",
   "metadata": {},
   "outputs": [],
   "source": [
    "d= np.array([[[2,3,1],[12,3,10]],[[3,4,4],[5,6,7]]])\n"
   ]
  },
  {
   "cell_type": "code",
   "execution_count": 33,
   "id": "f01b3021-0c94-417f-8395-84c5b02dfab4",
   "metadata": {},
   "outputs": [
    {
     "data": {
      "text/plain": [
       "array([[[ 2,  3,  1],\n",
       "        [12,  3, 10]],\n",
       "\n",
       "       [[ 3,  4,  4],\n",
       "        [ 5,  6,  7]]])"
      ]
     },
     "execution_count": 33,
     "metadata": {},
     "output_type": "execute_result"
    }
   ],
   "source": [
    "d"
   ]
  },
  {
   "cell_type": "code",
   "execution_count": 34,
   "id": "e78b4ef7-204b-4d15-aa17-14e20f53f0a5",
   "metadata": {},
   "outputs": [
    {
     "name": "stdout",
     "output_type": "stream",
     "text": [
      "3\n"
     ]
    }
   ],
   "source": [
    "print(d.ndim)"
   ]
  },
  {
   "cell_type": "code",
   "execution_count": 35,
   "id": "a8d01e67-1ddf-4d97-81b3-e168d832bedc",
   "metadata": {},
   "outputs": [
    {
     "data": {
      "text/plain": [
       "(2, 2, 3)"
      ]
     },
     "execution_count": 35,
     "metadata": {},
     "output_type": "execute_result"
    }
   ],
   "source": [
    "d.shape"
   ]
  },
  {
   "cell_type": "code",
   "execution_count": 23,
   "id": "50110642-35ee-499b-bf45-6653577d6eaa",
   "metadata": {},
   "outputs": [
    {
     "data": {
      "text/plain": [
       "(2, 2)"
      ]
     },
     "execution_count": 23,
     "metadata": {},
     "output_type": "execute_result"
    }
   ],
   "source": [
    "c.shape"
   ]
  },
  {
   "cell_type": "code",
   "execution_count": 24,
   "id": "68bc79c3-fa54-409b-80be-418c99edd7d7",
   "metadata": {},
   "outputs": [
    {
     "data": {
      "text/plain": [
       "array([[1],\n",
       "       [2],\n",
       "       [3],\n",
       "       [4]])"
      ]
     },
     "execution_count": 24,
     "metadata": {},
     "output_type": "execute_result"
    }
   ],
   "source": [
    "c.reshape(4,1)"
   ]
  },
  {
   "cell_type": "code",
   "execution_count": 25,
   "id": "4a18da80-a811-4c84-819b-1abc59fd264f",
   "metadata": {},
   "outputs": [
    {
     "data": {
      "text/plain": [
       "array([[1, 2],\n",
       "       [3, 4]])"
      ]
     },
     "execution_count": 25,
     "metadata": {},
     "output_type": "execute_result"
    }
   ],
   "source": [
    "c"
   ]
  },
  {
   "cell_type": "code",
   "execution_count": 28,
   "id": "b215b06f-ed03-4dbe-b35e-9642c0bec432",
   "metadata": {},
   "outputs": [
    {
     "data": {
      "text/plain": [
       "array([1, 2, 3, 4, 5])"
      ]
     },
     "execution_count": 28,
     "metadata": {},
     "output_type": "execute_result"
    }
   ],
   "source": [
    "e= np.array([1,2,3,4,5])\n",
    "e"
   ]
  },
  {
   "cell_type": "code",
   "execution_count": 27,
   "id": "72eeae7a-b08b-4502-8017-a3e87ec4160c",
   "metadata": {},
   "outputs": [
    {
     "data": {
      "text/plain": [
       "(5,)"
      ]
     },
     "execution_count": 27,
     "metadata": {},
     "output_type": "execute_result"
    }
   ],
   "source": [
    "e.shape"
   ]
  },
  {
   "cell_type": "code",
   "execution_count": 30,
   "id": "eda5f3e7-6102-428a-b9e1-417e64bfd98a",
   "metadata": {},
   "outputs": [
    {
     "data": {
      "text/plain": [
       "array([[1],\n",
       "       [2],\n",
       "       [3],\n",
       "       [4],\n",
       "       [5]])"
      ]
     },
     "execution_count": 30,
     "metadata": {},
     "output_type": "execute_result"
    }
   ],
   "source": [
    "e.reshape(5,1)"
   ]
  },
  {
   "cell_type": "markdown",
   "id": "cc507215-15c3-4326-8eec-1197a86b4422",
   "metadata": {},
   "source": [
    "### N dimension array"
   ]
  },
  {
   "cell_type": "code",
   "execution_count": 36,
   "id": "be681ef2-3a8e-400f-b879-b6423907d8d3",
   "metadata": {},
   "outputs": [],
   "source": [
    "arr = np.array([1, 2, 3, 4], ndmin=5)\n",
    "\n"
   ]
  },
  {
   "cell_type": "code",
   "execution_count": 37,
   "id": "284f4c8d-fa49-472c-a1c0-ec743c5f41d5",
   "metadata": {},
   "outputs": [
    {
     "data": {
      "text/plain": [
       "array([[[[[1, 2, 3, 4]]]]])"
      ]
     },
     "execution_count": 37,
     "metadata": {},
     "output_type": "execute_result"
    }
   ],
   "source": [
    "arr"
   ]
  },
  {
   "cell_type": "code",
   "execution_count": 38,
   "id": "506f3851-63d5-43b3-850a-f9f8a96f80ff",
   "metadata": {},
   "outputs": [],
   "source": [
    "z= np.array([[[[[[[[[1]]]]]]]]])"
   ]
  },
  {
   "cell_type": "code",
   "execution_count": 39,
   "id": "02be1678-8138-4969-9247-731766bfee01",
   "metadata": {},
   "outputs": [
    {
     "name": "stdout",
     "output_type": "stream",
     "text": [
      "9\n"
     ]
    }
   ],
   "source": [
    "print(z.ndim)"
   ]
  },
  {
   "cell_type": "code",
   "execution_count": null,
   "id": "edfb5782-8956-47c6-8d4d-544d8c382ec7",
   "metadata": {},
   "outputs": [],
   "source": []
  }
 ],
 "metadata": {
  "kernelspec": {
   "display_name": "Python 3 (ipykernel)",
   "language": "python",
   "name": "python3"
  },
  "language_info": {
   "codemirror_mode": {
    "name": "ipython",
    "version": 3
   },
   "file_extension": ".py",
   "mimetype": "text/x-python",
   "name": "python",
   "nbconvert_exporter": "python",
   "pygments_lexer": "ipython3",
   "version": "3.12.5"
  }
 },
 "nbformat": 4,
 "nbformat_minor": 5
}
